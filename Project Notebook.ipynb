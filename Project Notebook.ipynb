{
 "cells": [
  {
   "cell_type": "markdown",
   "id": "c5bea835",
   "metadata": {},
   "source": [
    "# Classification Trees/Neural Network Project\n",
    "\n",
    "By Nicholas Fullerton\n",
    "\n",
    "Dataset 1 : https://www.kaggle.com/datasets/nehalbirla/vehicle-dataset-from-cardekho?resource=download&select=Car+details+v3.csv  \n",
    "Dataset 2 : https://www.kaggle.com/code/kanncaa1/convolutional-neural-network-cnn-tutorial (I know in the link it says tutorial, I just took the datset from this notebook. I did not copy this notebook)."
   ]
  },
  {
   "cell_type": "markdown",
   "id": "01a88733",
   "metadata": {},
   "source": [
    "## Introduction\n",
    "\n",
    "In this Project we will be using 2 Machine Learning Algorithms.\n",
    "\n",
    "1 - We will be using classification trees to distinguish the make of a car given certain features. We will test this using a decision tree and a Random Forest to see which gives the best results.  \n",
    "2 - We will create a neural network that will classify a picture of a number between 0-9 correctly."
   ]
  },
  {
   "cell_type": "markdown",
   "id": "c64db31d",
   "metadata": {},
   "source": [
    "## Import Libraries"
   ]
  },
  {
   "cell_type": "code",
   "execution_count": 1,
   "id": "50b0816c",
   "metadata": {},
   "outputs": [],
   "source": [
    "import pandas as pd\n",
    "from matplotlib import pyplot as plt\n",
    "from sklearn import tree\n",
    "from sklearn.model_selection import KFold\n",
    "from sklearn.metrics import accuracy_score\n",
    "from sklearn.preprocessing import LabelEncoder\n",
    "from sklearn.ensemble import RandomForestClassifier\n",
    "import numpy as np\n",
    "import tensorflow as tf\n",
    "from tensorflow.keras import layers"
   ]
  },
  {
   "cell_type": "markdown",
   "id": "acf3bb41",
   "metadata": {},
   "source": [
    "## Machine Learning Algorithm 1 - Decision Trees\n",
    "\n",
    "We will first take a look at our data, then drop any rows with NA values."
   ]
  },
  {
   "cell_type": "code",
   "execution_count": 2,
   "id": "a86e346b",
   "metadata": {},
   "outputs": [
    {
     "data": {
      "text/html": [
       "<div>\n",
       "<style scoped>\n",
       "    .dataframe tbody tr th:only-of-type {\n",
       "        vertical-align: middle;\n",
       "    }\n",
       "\n",
       "    .dataframe tbody tr th {\n",
       "        vertical-align: top;\n",
       "    }\n",
       "\n",
       "    .dataframe thead th {\n",
       "        text-align: right;\n",
       "    }\n",
       "</style>\n",
       "<table border=\"1\" class=\"dataframe\">\n",
       "  <thead>\n",
       "    <tr style=\"text-align: right;\">\n",
       "      <th></th>\n",
       "      <th>name</th>\n",
       "      <th>year</th>\n",
       "      <th>selling_price</th>\n",
       "      <th>km_driven</th>\n",
       "      <th>fuel</th>\n",
       "      <th>seller_type</th>\n",
       "      <th>transmission</th>\n",
       "      <th>owner</th>\n",
       "      <th>mileage</th>\n",
       "      <th>engine</th>\n",
       "      <th>max_power</th>\n",
       "      <th>torque</th>\n",
       "      <th>seats</th>\n",
       "    </tr>\n",
       "  </thead>\n",
       "  <tbody>\n",
       "    <tr>\n",
       "      <th>0</th>\n",
       "      <td>Maruti Swift Dzire VDI</td>\n",
       "      <td>2014</td>\n",
       "      <td>450000</td>\n",
       "      <td>145500</td>\n",
       "      <td>Diesel</td>\n",
       "      <td>Individual</td>\n",
       "      <td>Manual</td>\n",
       "      <td>First Owner</td>\n",
       "      <td>23.4 kmpl</td>\n",
       "      <td>1248 CC</td>\n",
       "      <td>74 bhp</td>\n",
       "      <td>190Nm@ 2000rpm</td>\n",
       "      <td>5.0</td>\n",
       "    </tr>\n",
       "    <tr>\n",
       "      <th>1</th>\n",
       "      <td>Skoda Rapid 1.5 TDI Ambition</td>\n",
       "      <td>2014</td>\n",
       "      <td>370000</td>\n",
       "      <td>120000</td>\n",
       "      <td>Diesel</td>\n",
       "      <td>Individual</td>\n",
       "      <td>Manual</td>\n",
       "      <td>Second Owner</td>\n",
       "      <td>21.14 kmpl</td>\n",
       "      <td>1498 CC</td>\n",
       "      <td>103.52 bhp</td>\n",
       "      <td>250Nm@ 1500-2500rpm</td>\n",
       "      <td>5.0</td>\n",
       "    </tr>\n",
       "    <tr>\n",
       "      <th>2</th>\n",
       "      <td>Honda City 2017-2020 EXi</td>\n",
       "      <td>2006</td>\n",
       "      <td>158000</td>\n",
       "      <td>140000</td>\n",
       "      <td>Petrol</td>\n",
       "      <td>Individual</td>\n",
       "      <td>Manual</td>\n",
       "      <td>Third Owner</td>\n",
       "      <td>17.7 kmpl</td>\n",
       "      <td>1497 CC</td>\n",
       "      <td>78 bhp</td>\n",
       "      <td>12.7@ 2,700(kgm@ rpm)</td>\n",
       "      <td>5.0</td>\n",
       "    </tr>\n",
       "    <tr>\n",
       "      <th>3</th>\n",
       "      <td>Hyundai i20 Sportz Diesel</td>\n",
       "      <td>2010</td>\n",
       "      <td>225000</td>\n",
       "      <td>127000</td>\n",
       "      <td>Diesel</td>\n",
       "      <td>Individual</td>\n",
       "      <td>Manual</td>\n",
       "      <td>First Owner</td>\n",
       "      <td>23.0 kmpl</td>\n",
       "      <td>1396 CC</td>\n",
       "      <td>90 bhp</td>\n",
       "      <td>22.4 kgm at 1750-2750rpm</td>\n",
       "      <td>5.0</td>\n",
       "    </tr>\n",
       "    <tr>\n",
       "      <th>4</th>\n",
       "      <td>Maruti Swift VXI BSIII</td>\n",
       "      <td>2007</td>\n",
       "      <td>130000</td>\n",
       "      <td>120000</td>\n",
       "      <td>Petrol</td>\n",
       "      <td>Individual</td>\n",
       "      <td>Manual</td>\n",
       "      <td>First Owner</td>\n",
       "      <td>16.1 kmpl</td>\n",
       "      <td>1298 CC</td>\n",
       "      <td>88.2 bhp</td>\n",
       "      <td>11.5@ 4,500(kgm@ rpm)</td>\n",
       "      <td>5.0</td>\n",
       "    </tr>\n",
       "  </tbody>\n",
       "</table>\n",
       "</div>"
      ],
      "text/plain": [
       "                           name  year  selling_price  km_driven    fuel  \\\n",
       "0        Maruti Swift Dzire VDI  2014         450000     145500  Diesel   \n",
       "1  Skoda Rapid 1.5 TDI Ambition  2014         370000     120000  Diesel   \n",
       "2      Honda City 2017-2020 EXi  2006         158000     140000  Petrol   \n",
       "3     Hyundai i20 Sportz Diesel  2010         225000     127000  Diesel   \n",
       "4        Maruti Swift VXI BSIII  2007         130000     120000  Petrol   \n",
       "\n",
       "  seller_type transmission         owner     mileage   engine   max_power  \\\n",
       "0  Individual       Manual   First Owner   23.4 kmpl  1248 CC      74 bhp   \n",
       "1  Individual       Manual  Second Owner  21.14 kmpl  1498 CC  103.52 bhp   \n",
       "2  Individual       Manual   Third Owner   17.7 kmpl  1497 CC      78 bhp   \n",
       "3  Individual       Manual   First Owner   23.0 kmpl  1396 CC      90 bhp   \n",
       "4  Individual       Manual   First Owner   16.1 kmpl  1298 CC    88.2 bhp   \n",
       "\n",
       "                     torque  seats  \n",
       "0            190Nm@ 2000rpm    5.0  \n",
       "1       250Nm@ 1500-2500rpm    5.0  \n",
       "2     12.7@ 2,700(kgm@ rpm)    5.0  \n",
       "3  22.4 kgm at 1750-2750rpm    5.0  \n",
       "4     11.5@ 4,500(kgm@ rpm)    5.0  "
      ]
     },
     "execution_count": 2,
     "metadata": {},
     "output_type": "execute_result"
    }
   ],
   "source": [
    "cars = pd.read_csv(\"Car_details_v3.csv\")\n",
    "cars.head()"
   ]
  },
  {
   "cell_type": "code",
   "execution_count": 3,
   "id": "239a7123",
   "metadata": {},
   "outputs": [],
   "source": [
    "cars = cars.dropna()\n"
   ]
  },
  {
   "cell_type": "markdown",
   "id": "c54f72e2",
   "metadata": {},
   "source": [
    "## Data Manipulation\n",
    "\n",
    "As You can see from the data set there isn't a column that has the 'make' of the car. So we have to do that ourselves. In the name column it can be seen that the make of the car is the first work in the name, so we will just extract that and make it its own column."
   ]
  },
  {
   "cell_type": "code",
   "execution_count": 4,
   "id": "43fcc5ef",
   "metadata": {},
   "outputs": [
    {
     "data": {
      "text/html": [
       "<div>\n",
       "<style scoped>\n",
       "    .dataframe tbody tr th:only-of-type {\n",
       "        vertical-align: middle;\n",
       "    }\n",
       "\n",
       "    .dataframe tbody tr th {\n",
       "        vertical-align: top;\n",
       "    }\n",
       "\n",
       "    .dataframe thead th {\n",
       "        text-align: right;\n",
       "    }\n",
       "</style>\n",
       "<table border=\"1\" class=\"dataframe\">\n",
       "  <thead>\n",
       "    <tr style=\"text-align: right;\">\n",
       "      <th></th>\n",
       "      <th>name</th>\n",
       "      <th>year</th>\n",
       "      <th>selling_price</th>\n",
       "      <th>km_driven</th>\n",
       "      <th>fuel</th>\n",
       "      <th>seller_type</th>\n",
       "      <th>transmission</th>\n",
       "      <th>owner</th>\n",
       "      <th>mileage</th>\n",
       "      <th>engine</th>\n",
       "      <th>max_power</th>\n",
       "      <th>torque</th>\n",
       "      <th>seats</th>\n",
       "      <th>make</th>\n",
       "    </tr>\n",
       "  </thead>\n",
       "  <tbody>\n",
       "    <tr>\n",
       "      <th>0</th>\n",
       "      <td>Maruti Swift Dzire VDI</td>\n",
       "      <td>2014</td>\n",
       "      <td>450000</td>\n",
       "      <td>145500</td>\n",
       "      <td>Diesel</td>\n",
       "      <td>Individual</td>\n",
       "      <td>Manual</td>\n",
       "      <td>First Owner</td>\n",
       "      <td>23.4 kmpl</td>\n",
       "      <td>1248 CC</td>\n",
       "      <td>74 bhp</td>\n",
       "      <td>190Nm@ 2000rpm</td>\n",
       "      <td>5.0</td>\n",
       "      <td>Maruti</td>\n",
       "    </tr>\n",
       "    <tr>\n",
       "      <th>1</th>\n",
       "      <td>Skoda Rapid 1.5 TDI Ambition</td>\n",
       "      <td>2014</td>\n",
       "      <td>370000</td>\n",
       "      <td>120000</td>\n",
       "      <td>Diesel</td>\n",
       "      <td>Individual</td>\n",
       "      <td>Manual</td>\n",
       "      <td>Second Owner</td>\n",
       "      <td>21.14 kmpl</td>\n",
       "      <td>1498 CC</td>\n",
       "      <td>103.52 bhp</td>\n",
       "      <td>250Nm@ 1500-2500rpm</td>\n",
       "      <td>5.0</td>\n",
       "      <td>Skoda</td>\n",
       "    </tr>\n",
       "    <tr>\n",
       "      <th>2</th>\n",
       "      <td>Honda City 2017-2020 EXi</td>\n",
       "      <td>2006</td>\n",
       "      <td>158000</td>\n",
       "      <td>140000</td>\n",
       "      <td>Petrol</td>\n",
       "      <td>Individual</td>\n",
       "      <td>Manual</td>\n",
       "      <td>Third Owner</td>\n",
       "      <td>17.7 kmpl</td>\n",
       "      <td>1497 CC</td>\n",
       "      <td>78 bhp</td>\n",
       "      <td>12.7@ 2,700(kgm@ rpm)</td>\n",
       "      <td>5.0</td>\n",
       "      <td>Honda</td>\n",
       "    </tr>\n",
       "    <tr>\n",
       "      <th>3</th>\n",
       "      <td>Hyundai i20 Sportz Diesel</td>\n",
       "      <td>2010</td>\n",
       "      <td>225000</td>\n",
       "      <td>127000</td>\n",
       "      <td>Diesel</td>\n",
       "      <td>Individual</td>\n",
       "      <td>Manual</td>\n",
       "      <td>First Owner</td>\n",
       "      <td>23.0 kmpl</td>\n",
       "      <td>1396 CC</td>\n",
       "      <td>90 bhp</td>\n",
       "      <td>22.4 kgm at 1750-2750rpm</td>\n",
       "      <td>5.0</td>\n",
       "      <td>Hyundai</td>\n",
       "    </tr>\n",
       "    <tr>\n",
       "      <th>4</th>\n",
       "      <td>Maruti Swift VXI BSIII</td>\n",
       "      <td>2007</td>\n",
       "      <td>130000</td>\n",
       "      <td>120000</td>\n",
       "      <td>Petrol</td>\n",
       "      <td>Individual</td>\n",
       "      <td>Manual</td>\n",
       "      <td>First Owner</td>\n",
       "      <td>16.1 kmpl</td>\n",
       "      <td>1298 CC</td>\n",
       "      <td>88.2 bhp</td>\n",
       "      <td>11.5@ 4,500(kgm@ rpm)</td>\n",
       "      <td>5.0</td>\n",
       "      <td>Maruti</td>\n",
       "    </tr>\n",
       "    <tr>\n",
       "      <th>...</th>\n",
       "      <td>...</td>\n",
       "      <td>...</td>\n",
       "      <td>...</td>\n",
       "      <td>...</td>\n",
       "      <td>...</td>\n",
       "      <td>...</td>\n",
       "      <td>...</td>\n",
       "      <td>...</td>\n",
       "      <td>...</td>\n",
       "      <td>...</td>\n",
       "      <td>...</td>\n",
       "      <td>...</td>\n",
       "      <td>...</td>\n",
       "      <td>...</td>\n",
       "    </tr>\n",
       "    <tr>\n",
       "      <th>8123</th>\n",
       "      <td>Hyundai i20 Magna</td>\n",
       "      <td>2013</td>\n",
       "      <td>320000</td>\n",
       "      <td>110000</td>\n",
       "      <td>Petrol</td>\n",
       "      <td>Individual</td>\n",
       "      <td>Manual</td>\n",
       "      <td>First Owner</td>\n",
       "      <td>18.5 kmpl</td>\n",
       "      <td>1197 CC</td>\n",
       "      <td>82.85 bhp</td>\n",
       "      <td>113.7Nm@ 4000rpm</td>\n",
       "      <td>5.0</td>\n",
       "      <td>Hyundai</td>\n",
       "    </tr>\n",
       "    <tr>\n",
       "      <th>8124</th>\n",
       "      <td>Hyundai Verna CRDi SX</td>\n",
       "      <td>2007</td>\n",
       "      <td>135000</td>\n",
       "      <td>119000</td>\n",
       "      <td>Diesel</td>\n",
       "      <td>Individual</td>\n",
       "      <td>Manual</td>\n",
       "      <td>Fourth &amp; Above Owner</td>\n",
       "      <td>16.8 kmpl</td>\n",
       "      <td>1493 CC</td>\n",
       "      <td>110 bhp</td>\n",
       "      <td>24@ 1,900-2,750(kgm@ rpm)</td>\n",
       "      <td>5.0</td>\n",
       "      <td>Hyundai</td>\n",
       "    </tr>\n",
       "    <tr>\n",
       "      <th>8125</th>\n",
       "      <td>Maruti Swift Dzire ZDi</td>\n",
       "      <td>2009</td>\n",
       "      <td>382000</td>\n",
       "      <td>120000</td>\n",
       "      <td>Diesel</td>\n",
       "      <td>Individual</td>\n",
       "      <td>Manual</td>\n",
       "      <td>First Owner</td>\n",
       "      <td>19.3 kmpl</td>\n",
       "      <td>1248 CC</td>\n",
       "      <td>73.9 bhp</td>\n",
       "      <td>190Nm@ 2000rpm</td>\n",
       "      <td>5.0</td>\n",
       "      <td>Maruti</td>\n",
       "    </tr>\n",
       "    <tr>\n",
       "      <th>8126</th>\n",
       "      <td>Tata Indigo CR4</td>\n",
       "      <td>2013</td>\n",
       "      <td>290000</td>\n",
       "      <td>25000</td>\n",
       "      <td>Diesel</td>\n",
       "      <td>Individual</td>\n",
       "      <td>Manual</td>\n",
       "      <td>First Owner</td>\n",
       "      <td>23.57 kmpl</td>\n",
       "      <td>1396 CC</td>\n",
       "      <td>70 bhp</td>\n",
       "      <td>140Nm@ 1800-3000rpm</td>\n",
       "      <td>5.0</td>\n",
       "      <td>Tata</td>\n",
       "    </tr>\n",
       "    <tr>\n",
       "      <th>8127</th>\n",
       "      <td>Tata Indigo CR4</td>\n",
       "      <td>2013</td>\n",
       "      <td>290000</td>\n",
       "      <td>25000</td>\n",
       "      <td>Diesel</td>\n",
       "      <td>Individual</td>\n",
       "      <td>Manual</td>\n",
       "      <td>First Owner</td>\n",
       "      <td>23.57 kmpl</td>\n",
       "      <td>1396 CC</td>\n",
       "      <td>70 bhp</td>\n",
       "      <td>140Nm@ 1800-3000rpm</td>\n",
       "      <td>5.0</td>\n",
       "      <td>Tata</td>\n",
       "    </tr>\n",
       "  </tbody>\n",
       "</table>\n",
       "<p>7906 rows × 14 columns</p>\n",
       "</div>"
      ],
      "text/plain": [
       "                              name  year  selling_price  km_driven    fuel  \\\n",
       "0           Maruti Swift Dzire VDI  2014         450000     145500  Diesel   \n",
       "1     Skoda Rapid 1.5 TDI Ambition  2014         370000     120000  Diesel   \n",
       "2         Honda City 2017-2020 EXi  2006         158000     140000  Petrol   \n",
       "3        Hyundai i20 Sportz Diesel  2010         225000     127000  Diesel   \n",
       "4           Maruti Swift VXI BSIII  2007         130000     120000  Petrol   \n",
       "...                            ...   ...            ...        ...     ...   \n",
       "8123             Hyundai i20 Magna  2013         320000     110000  Petrol   \n",
       "8124         Hyundai Verna CRDi SX  2007         135000     119000  Diesel   \n",
       "8125        Maruti Swift Dzire ZDi  2009         382000     120000  Diesel   \n",
       "8126               Tata Indigo CR4  2013         290000      25000  Diesel   \n",
       "8127               Tata Indigo CR4  2013         290000      25000  Diesel   \n",
       "\n",
       "     seller_type transmission                 owner     mileage   engine  \\\n",
       "0     Individual       Manual           First Owner   23.4 kmpl  1248 CC   \n",
       "1     Individual       Manual          Second Owner  21.14 kmpl  1498 CC   \n",
       "2     Individual       Manual           Third Owner   17.7 kmpl  1497 CC   \n",
       "3     Individual       Manual           First Owner   23.0 kmpl  1396 CC   \n",
       "4     Individual       Manual           First Owner   16.1 kmpl  1298 CC   \n",
       "...          ...          ...                   ...         ...      ...   \n",
       "8123  Individual       Manual           First Owner   18.5 kmpl  1197 CC   \n",
       "8124  Individual       Manual  Fourth & Above Owner   16.8 kmpl  1493 CC   \n",
       "8125  Individual       Manual           First Owner   19.3 kmpl  1248 CC   \n",
       "8126  Individual       Manual           First Owner  23.57 kmpl  1396 CC   \n",
       "8127  Individual       Manual           First Owner  23.57 kmpl  1396 CC   \n",
       "\n",
       "       max_power                     torque  seats     make  \n",
       "0         74 bhp             190Nm@ 2000rpm    5.0   Maruti  \n",
       "1     103.52 bhp        250Nm@ 1500-2500rpm    5.0    Skoda  \n",
       "2         78 bhp      12.7@ 2,700(kgm@ rpm)    5.0    Honda  \n",
       "3         90 bhp   22.4 kgm at 1750-2750rpm    5.0  Hyundai  \n",
       "4       88.2 bhp      11.5@ 4,500(kgm@ rpm)    5.0   Maruti  \n",
       "...          ...                        ...    ...      ...  \n",
       "8123   82.85 bhp           113.7Nm@ 4000rpm    5.0  Hyundai  \n",
       "8124     110 bhp  24@ 1,900-2,750(kgm@ rpm)    5.0  Hyundai  \n",
       "8125    73.9 bhp             190Nm@ 2000rpm    5.0   Maruti  \n",
       "8126      70 bhp        140Nm@ 1800-3000rpm    5.0     Tata  \n",
       "8127      70 bhp        140Nm@ 1800-3000rpm    5.0     Tata  \n",
       "\n",
       "[7906 rows x 14 columns]"
      ]
     },
     "execution_count": 4,
     "metadata": {},
     "output_type": "execute_result"
    }
   ],
   "source": [
    "cars['make'] = cars['name'].str.split(\" \").str[0]\n",
    "cars"
   ]
  },
  {
   "cell_type": "code",
   "execution_count": 5,
   "id": "64ed8bd7",
   "metadata": {},
   "outputs": [
    {
     "data": {
      "text/plain": [
       "array(['Maruti', 'Skoda', 'Honda', 'Hyundai', 'Toyota', 'Ford', 'Renault',\n",
       "       'Mahindra', 'Tata', 'Chevrolet', 'Datsun', 'Jeep', 'Mercedes-Benz',\n",
       "       'Mitsubishi', 'Audi', 'Volkswagen', 'BMW', 'Nissan', 'Lexus',\n",
       "       'Jaguar', 'Land', 'MG', 'Volvo', 'Daewoo', 'Kia', 'Fiat', 'Force',\n",
       "       'Ambassador', 'Ashok', 'Isuzu', 'Opel'], dtype=object)"
      ]
     },
     "execution_count": 5,
     "metadata": {},
     "output_type": "execute_result"
    }
   ],
   "source": [
    "cars['make'].unique()"
   ]
  },
  {
   "cell_type": "code",
   "execution_count": 6,
   "id": "18401591",
   "metadata": {},
   "outputs": [
    {
     "data": {
      "text/plain": [
       "Maruti           2367\n",
       "Hyundai          1360\n",
       "Mahindra          758\n",
       "Tata              719\n",
       "Honda             466\n",
       "Toyota            452\n",
       "Ford              388\n",
       "Chevrolet         230\n",
       "Renault           228\n",
       "Volkswagen        185\n",
       "BMW               118\n",
       "Skoda             104\n",
       "Nissan             81\n",
       "Jaguar             71\n",
       "Volvo              67\n",
       "Datsun             65\n",
       "Mercedes-Benz      54\n",
       "Fiat               41\n",
       "Audi               40\n",
       "Lexus              34\n",
       "Jeep               31\n",
       "Mitsubishi         14\n",
       "Force               6\n",
       "Land                6\n",
       "Isuzu               5\n",
       "Kia                 4\n",
       "Ambassador          4\n",
       "Daewoo              3\n",
       "MG                  3\n",
       "Ashok               1\n",
       "Opel                1\n",
       "Name: make, dtype: int64"
      ]
     },
     "execution_count": 6,
     "metadata": {},
     "output_type": "execute_result"
    }
   ],
   "source": [
    "cars['make'].value_counts()"
   ]
  },
  {
   "cell_type": "markdown",
   "id": "c8500025",
   "metadata": {},
   "source": [
    "#### Narrowing Down our Dataset\n",
    "\n",
    "Here I will be only taking makes of cars that I actually know, and that are highly populated in the dataset. "
   ]
  },
  {
   "cell_type": "code",
   "execution_count": 7,
   "id": "407cab01",
   "metadata": {},
   "outputs": [
    {
     "data": {
      "text/plain": [
       "array(['Honda', 'Hyundai', 'Toyota', 'Ford', 'Mahindra', 'Chevrolet',\n",
       "       'Volkswagen', 'BMW'], dtype=object)"
      ]
     },
     "execution_count": 7,
     "metadata": {},
     "output_type": "execute_result"
    }
   ],
   "source": [
    "car_make = ['Honda', 'Hyundai', 'Toyota', 'Ford', 'Chevrolet', 'BMW', 'Mahindra', 'Volkswagen']\n",
    "cars = cars[cars.make.isin(car_make)==True]\n",
    "cars = cars.reset_index()\n",
    "cars['make'].unique()"
   ]
  },
  {
   "cell_type": "code",
   "execution_count": 8,
   "id": "f463ca55",
   "metadata": {},
   "outputs": [
    {
     "data": {
      "text/plain": [
       "<AxesSubplot:>"
      ]
     },
     "execution_count": 8,
     "metadata": {},
     "output_type": "execute_result"
    },
    {
     "data": {
      "image/png": "[encoded data removed]",
      "text/plain": [
       "<Figure size 432x288 with 1 Axes>"
      ]
     },
     "metadata": {
      "needs_background": "light"
     },
     "output_type": "display_data"
    }
   ],
   "source": [
    "cars['make'].value_counts().plot(kind='barh')"
   ]
  },
  {
   "cell_type": "markdown",
   "id": "63441502",
   "metadata": {},
   "source": [
    "#### More Manipulation\n",
    "\n",
    "Next I drop certain columns that will not be needed. Also I will drop the torque column as the format is too complicated to manipulate into something usable. "
   ]
  },
  {
   "cell_type": "code",
   "execution_count": 9,
   "id": "3932201e",
   "metadata": {},
   "outputs": [
    {
     "data": {
      "text/html": [
       "<div>\n",
       "<style scoped>\n",
       "    .dataframe tbody tr th:only-of-type {\n",
       "        vertical-align: middle;\n",
       "    }\n",
       "\n",
       "    .dataframe tbody tr th {\n",
       "        vertical-align: top;\n",
       "    }\n",
       "\n",
       "    .dataframe thead th {\n",
       "        text-align: right;\n",
       "    }\n",
       "</style>\n",
       "<table border=\"1\" class=\"dataframe\">\n",
       "  <thead>\n",
       "    <tr style=\"text-align: right;\">\n",
       "      <th></th>\n",
       "      <th>year</th>\n",
       "      <th>selling_price</th>\n",
       "      <th>km_driven</th>\n",
       "      <th>fuel</th>\n",
       "      <th>transmission</th>\n",
       "      <th>mileage</th>\n",
       "      <th>engine</th>\n",
       "      <th>max_power</th>\n",
       "      <th>seats</th>\n",
       "      <th>make</th>\n",
       "    </tr>\n",
       "  </thead>\n",
       "  <tbody>\n",
       "    <tr>\n",
       "      <th>0</th>\n",
       "      <td>2006</td>\n",
       "      <td>158000</td>\n",
       "      <td>140000</td>\n",
       "      <td>Petrol</td>\n",
       "      <td>Manual</td>\n",
       "      <td>17.7 kmpl</td>\n",
       "      <td>1497 CC</td>\n",
       "      <td>78 bhp</td>\n",
       "      <td>5.0</td>\n",
       "      <td>Honda</td>\n",
       "    </tr>\n",
       "    <tr>\n",
       "      <th>1</th>\n",
       "      <td>2010</td>\n",
       "      <td>225000</td>\n",
       "      <td>127000</td>\n",
       "      <td>Diesel</td>\n",
       "      <td>Manual</td>\n",
       "      <td>23.0 kmpl</td>\n",
       "      <td>1396 CC</td>\n",
       "      <td>90 bhp</td>\n",
       "      <td>5.0</td>\n",
       "      <td>Hyundai</td>\n",
       "    </tr>\n",
       "    <tr>\n",
       "      <th>2</th>\n",
       "      <td>2017</td>\n",
       "      <td>440000</td>\n",
       "      <td>45000</td>\n",
       "      <td>Petrol</td>\n",
       "      <td>Manual</td>\n",
       "      <td>20.14 kmpl</td>\n",
       "      <td>1197 CC</td>\n",
       "      <td>81.86 bhp</td>\n",
       "      <td>5.0</td>\n",
       "      <td>Hyundai</td>\n",
       "    </tr>\n",
       "    <tr>\n",
       "      <th>3</th>\n",
       "      <td>2011</td>\n",
       "      <td>350000</td>\n",
       "      <td>90000</td>\n",
       "      <td>Diesel</td>\n",
       "      <td>Manual</td>\n",
       "      <td>23.59 kmpl</td>\n",
       "      <td>1364 CC</td>\n",
       "      <td>67.1 bhp</td>\n",
       "      <td>5.0</td>\n",
       "      <td>Toyota</td>\n",
       "    </tr>\n",
       "    <tr>\n",
       "      <th>4</th>\n",
       "      <td>2013</td>\n",
       "      <td>200000</td>\n",
       "      <td>169000</td>\n",
       "      <td>Diesel</td>\n",
       "      <td>Manual</td>\n",
       "      <td>20.0 kmpl</td>\n",
       "      <td>1399 CC</td>\n",
       "      <td>68.1 bhp</td>\n",
       "      <td>5.0</td>\n",
       "      <td>Ford</td>\n",
       "    </tr>\n",
       "    <tr>\n",
       "      <th>...</th>\n",
       "      <td>...</td>\n",
       "      <td>...</td>\n",
       "      <td>...</td>\n",
       "      <td>...</td>\n",
       "      <td>...</td>\n",
       "      <td>...</td>\n",
       "      <td>...</td>\n",
       "      <td>...</td>\n",
       "      <td>...</td>\n",
       "      <td>...</td>\n",
       "    </tr>\n",
       "    <tr>\n",
       "      <th>3952</th>\n",
       "      <td>2013</td>\n",
       "      <td>380000</td>\n",
       "      <td>25000</td>\n",
       "      <td>Petrol</td>\n",
       "      <td>Manual</td>\n",
       "      <td>18.5 kmpl</td>\n",
       "      <td>1197 CC</td>\n",
       "      <td>82.85 bhp</td>\n",
       "      <td>5.0</td>\n",
       "      <td>Hyundai</td>\n",
       "    </tr>\n",
       "    <tr>\n",
       "      <th>3953</th>\n",
       "      <td>2008</td>\n",
       "      <td>120000</td>\n",
       "      <td>191000</td>\n",
       "      <td>Petrol</td>\n",
       "      <td>Manual</td>\n",
       "      <td>17.92 kmpl</td>\n",
       "      <td>1086 CC</td>\n",
       "      <td>62.1 bhp</td>\n",
       "      <td>5.0</td>\n",
       "      <td>Hyundai</td>\n",
       "    </tr>\n",
       "    <tr>\n",
       "      <th>3954</th>\n",
       "      <td>2014</td>\n",
       "      <td>475000</td>\n",
       "      <td>80000</td>\n",
       "      <td>Diesel</td>\n",
       "      <td>Manual</td>\n",
       "      <td>22.54 kmpl</td>\n",
       "      <td>1396 CC</td>\n",
       "      <td>88.73 bhp</td>\n",
       "      <td>5.0</td>\n",
       "      <td>Hyundai</td>\n",
       "    </tr>\n",
       "    <tr>\n",
       "      <th>3955</th>\n",
       "      <td>2013</td>\n",
       "      <td>320000</td>\n",
       "      <td>110000</td>\n",
       "      <td>Petrol</td>\n",
       "      <td>Manual</td>\n",
       "      <td>18.5 kmpl</td>\n",
       "      <td>1197 CC</td>\n",
       "      <td>82.85 bhp</td>\n",
       "      <td>5.0</td>\n",
       "      <td>Hyundai</td>\n",
       "    </tr>\n",
       "    <tr>\n",
       "      <th>3956</th>\n",
       "      <td>2007</td>\n",
       "      <td>135000</td>\n",
       "      <td>119000</td>\n",
       "      <td>Diesel</td>\n",
       "      <td>Manual</td>\n",
       "      <td>16.8 kmpl</td>\n",
       "      <td>1493 CC</td>\n",
       "      <td>110 bhp</td>\n",
       "      <td>5.0</td>\n",
       "      <td>Hyundai</td>\n",
       "    </tr>\n",
       "  </tbody>\n",
       "</table>\n",
       "<p>3957 rows × 10 columns</p>\n",
       "</div>"
      ],
      "text/plain": [
       "      year  selling_price  km_driven    fuel transmission     mileage  \\\n",
       "0     2006         158000     140000  Petrol       Manual   17.7 kmpl   \n",
       "1     2010         225000     127000  Diesel       Manual   23.0 kmpl   \n",
       "2     2017         440000      45000  Petrol       Manual  20.14 kmpl   \n",
       "3     2011         350000      90000  Diesel       Manual  23.59 kmpl   \n",
       "4     2013         200000     169000  Diesel       Manual   20.0 kmpl   \n",
       "...    ...            ...        ...     ...          ...         ...   \n",
       "3952  2013         380000      25000  Petrol       Manual   18.5 kmpl   \n",
       "3953  2008         120000     191000  Petrol       Manual  17.92 kmpl   \n",
       "3954  2014         475000      80000  Diesel       Manual  22.54 kmpl   \n",
       "3955  2013         320000     110000  Petrol       Manual   18.5 kmpl   \n",
       "3956  2007         135000     119000  Diesel       Manual   16.8 kmpl   \n",
       "\n",
       "       engine  max_power  seats     make  \n",
       "0     1497 CC     78 bhp    5.0    Honda  \n",
       "1     1396 CC     90 bhp    5.0  Hyundai  \n",
       "2     1197 CC  81.86 bhp    5.0  Hyundai  \n",
       "3     1364 CC   67.1 bhp    5.0   Toyota  \n",
       "4     1399 CC   68.1 bhp    5.0     Ford  \n",
       "...       ...        ...    ...      ...  \n",
       "3952  1197 CC  82.85 bhp    5.0  Hyundai  \n",
       "3953  1086 CC   62.1 bhp    5.0  Hyundai  \n",
       "3954  1396 CC  88.73 bhp    5.0  Hyundai  \n",
       "3955  1197 CC  82.85 bhp    5.0  Hyundai  \n",
       "3956  1493 CC    110 bhp    5.0  Hyundai  \n",
       "\n",
       "[3957 rows x 10 columns]"
      ]
     },
     "execution_count": 9,
     "metadata": {},
     "output_type": "execute_result"
    }
   ],
   "source": [
    "cars.drop(['seller_type', 'name', 'owner', 'torque','index'],axis=1,inplace=True)\n",
    "cars"
   ]
  },
  {
   "cell_type": "markdown",
   "id": "4f359345",
   "metadata": {},
   "source": [
    "#### More Manipulation\n",
    "\n",
    "Below I fix the mileage, engine, and max_power columns and turn them into floats that we can use for our classifier."
   ]
  },
  {
   "cell_type": "code",
   "execution_count": 10,
   "id": "64107794",
   "metadata": {},
   "outputs": [
    {
     "data": {
      "text/html": [
       "<div>\n",
       "<style scoped>\n",
       "    .dataframe tbody tr th:only-of-type {\n",
       "        vertical-align: middle;\n",
       "    }\n",
       "\n",
       "    .dataframe tbody tr th {\n",
       "        vertical-align: top;\n",
       "    }\n",
       "\n",
       "    .dataframe thead th {\n",
       "        text-align: right;\n",
       "    }\n",
       "</style>\n",
       "<table border=\"1\" class=\"dataframe\">\n",
       "  <thead>\n",
       "    <tr style=\"text-align: right;\">\n",
       "      <th></th>\n",
       "      <th>year</th>\n",
       "      <th>selling_price</th>\n",
       "      <th>km_driven</th>\n",
       "      <th>fuel</th>\n",
       "      <th>transmission</th>\n",
       "      <th>mileage</th>\n",
       "      <th>engine</th>\n",
       "      <th>max_power</th>\n",
       "      <th>seats</th>\n",
       "      <th>make</th>\n",
       "    </tr>\n",
       "  </thead>\n",
       "  <tbody>\n",
       "    <tr>\n",
       "      <th>0</th>\n",
       "      <td>2006</td>\n",
       "      <td>158000</td>\n",
       "      <td>140000</td>\n",
       "      <td>Petrol</td>\n",
       "      <td>Manual</td>\n",
       "      <td>17.70</td>\n",
       "      <td>1497.0</td>\n",
       "      <td>78.00</td>\n",
       "      <td>5.0</td>\n",
       "      <td>Honda</td>\n",
       "    </tr>\n",
       "    <tr>\n",
       "      <th>1</th>\n",
       "      <td>2010</td>\n",
       "      <td>225000</td>\n",
       "      <td>127000</td>\n",
       "      <td>Diesel</td>\n",
       "      <td>Manual</td>\n",
       "      <td>23.00</td>\n",
       "      <td>1396.0</td>\n",
       "      <td>90.00</td>\n",
       "      <td>5.0</td>\n",
       "      <td>Hyundai</td>\n",
       "    </tr>\n",
       "    <tr>\n",
       "      <th>2</th>\n",
       "      <td>2017</td>\n",
       "      <td>440000</td>\n",
       "      <td>45000</td>\n",
       "      <td>Petrol</td>\n",
       "      <td>Manual</td>\n",
       "      <td>20.14</td>\n",
       "      <td>1197.0</td>\n",
       "      <td>81.86</td>\n",
       "      <td>5.0</td>\n",
       "      <td>Hyundai</td>\n",
       "    </tr>\n",
       "    <tr>\n",
       "      <th>3</th>\n",
       "      <td>2011</td>\n",
       "      <td>350000</td>\n",
       "      <td>90000</td>\n",
       "      <td>Diesel</td>\n",
       "      <td>Manual</td>\n",
       "      <td>23.59</td>\n",
       "      <td>1364.0</td>\n",
       "      <td>67.10</td>\n",
       "      <td>5.0</td>\n",
       "      <td>Toyota</td>\n",
       "    </tr>\n",
       "    <tr>\n",
       "      <th>4</th>\n",
       "      <td>2013</td>\n",
       "      <td>200000</td>\n",
       "      <td>169000</td>\n",
       "      <td>Diesel</td>\n",
       "      <td>Manual</td>\n",
       "      <td>20.00</td>\n",
       "      <td>1399.0</td>\n",
       "      <td>68.10</td>\n",
       "      <td>5.0</td>\n",
       "      <td>Ford</td>\n",
       "    </tr>\n",
       "  </tbody>\n",
       "</table>\n",
       "</div>"
      ],
      "text/plain": [
       "   year  selling_price  km_driven    fuel transmission  mileage  engine  \\\n",
       "0  2006         158000     140000  Petrol       Manual    17.70  1497.0   \n",
       "1  2010         225000     127000  Diesel       Manual    23.00  1396.0   \n",
       "2  2017         440000      45000  Petrol       Manual    20.14  1197.0   \n",
       "3  2011         350000      90000  Diesel       Manual    23.59  1364.0   \n",
       "4  2013         200000     169000  Diesel       Manual    20.00  1399.0   \n",
       "\n",
       "   max_power  seats     make  \n",
       "0      78.00    5.0    Honda  \n",
       "1      90.00    5.0  Hyundai  \n",
       "2      81.86    5.0  Hyundai  \n",
       "3      67.10    5.0   Toyota  \n",
       "4      68.10    5.0     Ford  "
      ]
     },
     "execution_count": 10,
     "metadata": {},
     "output_type": "execute_result"
    }
   ],
   "source": [
    "cars['mileage'] = cars['mileage'].str.split(\" \").str[0]\n",
    "cars['mileage'] = cars['mileage'].astype(float)\n",
    "cars['engine'] = cars['engine'].str.split(\" \").str[0]\n",
    "cars['engine'] = cars['engine'].astype(float)\n",
    "cars['max_power'] = cars['max_power'].str.split(\" \").str[0]\n",
    "cars['max_power'] = cars['max_power'].astype(float)\n",
    "cars.head()\n"
   ]
  },
  {
   "cell_type": "markdown",
   "id": "093ae2b2",
   "metadata": {},
   "source": [
    "#### More Manipulation\n",
    "\n",
    "Below I encode the categorical data, so we can use it in our classifier. "
   ]
  },
  {
   "cell_type": "code",
   "execution_count": 11,
   "id": "91e5a3ad",
   "metadata": {},
   "outputs": [
    {
     "data": {
      "text/html": [
       "<div>\n",
       "<style scoped>\n",
       "    .dataframe tbody tr th:only-of-type {\n",
       "        vertical-align: middle;\n",
       "    }\n",
       "\n",
       "    .dataframe tbody tr th {\n",
       "        vertical-align: top;\n",
       "    }\n",
       "\n",
       "    .dataframe thead th {\n",
       "        text-align: right;\n",
       "    }\n",
       "</style>\n",
       "<table border=\"1\" class=\"dataframe\">\n",
       "  <thead>\n",
       "    <tr style=\"text-align: right;\">\n",
       "      <th></th>\n",
       "      <th>year</th>\n",
       "      <th>selling_price</th>\n",
       "      <th>km_driven</th>\n",
       "      <th>fuel</th>\n",
       "      <th>transmission</th>\n",
       "      <th>mileage</th>\n",
       "      <th>engine</th>\n",
       "      <th>max_power</th>\n",
       "      <th>seats</th>\n",
       "      <th>make</th>\n",
       "    </tr>\n",
       "  </thead>\n",
       "  <tbody>\n",
       "    <tr>\n",
       "      <th>0</th>\n",
       "      <td>2006</td>\n",
       "      <td>158000</td>\n",
       "      <td>140000</td>\n",
       "      <td>3</td>\n",
       "      <td>1</td>\n",
       "      <td>17.70</td>\n",
       "      <td>1497.0</td>\n",
       "      <td>78.00</td>\n",
       "      <td>5.0</td>\n",
       "      <td>Honda</td>\n",
       "    </tr>\n",
       "    <tr>\n",
       "      <th>1</th>\n",
       "      <td>2010</td>\n",
       "      <td>225000</td>\n",
       "      <td>127000</td>\n",
       "      <td>1</td>\n",
       "      <td>1</td>\n",
       "      <td>23.00</td>\n",
       "      <td>1396.0</td>\n",
       "      <td>90.00</td>\n",
       "      <td>5.0</td>\n",
       "      <td>Hyundai</td>\n",
       "    </tr>\n",
       "    <tr>\n",
       "      <th>2</th>\n",
       "      <td>2017</td>\n",
       "      <td>440000</td>\n",
       "      <td>45000</td>\n",
       "      <td>3</td>\n",
       "      <td>1</td>\n",
       "      <td>20.14</td>\n",
       "      <td>1197.0</td>\n",
       "      <td>81.86</td>\n",
       "      <td>5.0</td>\n",
       "      <td>Hyundai</td>\n",
       "    </tr>\n",
       "    <tr>\n",
       "      <th>3</th>\n",
       "      <td>2011</td>\n",
       "      <td>350000</td>\n",
       "      <td>90000</td>\n",
       "      <td>1</td>\n",
       "      <td>1</td>\n",
       "      <td>23.59</td>\n",
       "      <td>1364.0</td>\n",
       "      <td>67.10</td>\n",
       "      <td>5.0</td>\n",
       "      <td>Toyota</td>\n",
       "    </tr>\n",
       "    <tr>\n",
       "      <th>4</th>\n",
       "      <td>2013</td>\n",
       "      <td>200000</td>\n",
       "      <td>169000</td>\n",
       "      <td>1</td>\n",
       "      <td>1</td>\n",
       "      <td>20.00</td>\n",
       "      <td>1399.0</td>\n",
       "      <td>68.10</td>\n",
       "      <td>5.0</td>\n",
       "      <td>Ford</td>\n",
       "    </tr>\n",
       "    <tr>\n",
       "      <th>...</th>\n",
       "      <td>...</td>\n",
       "      <td>...</td>\n",
       "      <td>...</td>\n",
       "      <td>...</td>\n",
       "      <td>...</td>\n",
       "      <td>...</td>\n",
       "      <td>...</td>\n",
       "      <td>...</td>\n",
       "      <td>...</td>\n",
       "      <td>...</td>\n",
       "    </tr>\n",
       "    <tr>\n",
       "      <th>3952</th>\n",
       "      <td>2013</td>\n",
       "      <td>380000</td>\n",
       "      <td>25000</td>\n",
       "      <td>3</td>\n",
       "      <td>1</td>\n",
       "      <td>18.50</td>\n",
       "      <td>1197.0</td>\n",
       "      <td>82.85</td>\n",
       "      <td>5.0</td>\n",
       "      <td>Hyundai</td>\n",
       "    </tr>\n",
       "    <tr>\n",
       "      <th>3953</th>\n",
       "      <td>2008</td>\n",
       "      <td>120000</td>\n",
       "      <td>191000</td>\n",
       "      <td>3</td>\n",
       "      <td>1</td>\n",
       "      <td>17.92</td>\n",
       "      <td>1086.0</td>\n",
       "      <td>62.10</td>\n",
       "      <td>5.0</td>\n",
       "      <td>Hyundai</td>\n",
       "    </tr>\n",
       "    <tr>\n",
       "      <th>3954</th>\n",
       "      <td>2014</td>\n",
       "      <td>475000</td>\n",
       "      <td>80000</td>\n",
       "      <td>1</td>\n",
       "      <td>1</td>\n",
       "      <td>22.54</td>\n",
       "      <td>1396.0</td>\n",
       "      <td>88.73</td>\n",
       "      <td>5.0</td>\n",
       "      <td>Hyundai</td>\n",
       "    </tr>\n",
       "    <tr>\n",
       "      <th>3955</th>\n",
       "      <td>2013</td>\n",
       "      <td>320000</td>\n",
       "      <td>110000</td>\n",
       "      <td>3</td>\n",
       "      <td>1</td>\n",
       "      <td>18.50</td>\n",
       "      <td>1197.0</td>\n",
       "      <td>82.85</td>\n",
       "      <td>5.0</td>\n",
       "      <td>Hyundai</td>\n",
       "    </tr>\n",
       "    <tr>\n",
       "      <th>3956</th>\n",
       "      <td>2007</td>\n",
       "      <td>135000</td>\n",
       "      <td>119000</td>\n",
       "      <td>1</td>\n",
       "      <td>1</td>\n",
       "      <td>16.80</td>\n",
       "      <td>1493.0</td>\n",
       "      <td>110.00</td>\n",
       "      <td>5.0</td>\n",
       "      <td>Hyundai</td>\n",
       "    </tr>\n",
       "  </tbody>\n",
       "</table>\n",
       "<p>3957 rows × 10 columns</p>\n",
       "</div>"
      ],
      "text/plain": [
       "      year  selling_price  km_driven  fuel  transmission  mileage  engine  \\\n",
       "0     2006         158000     140000     3             1    17.70  1497.0   \n",
       "1     2010         225000     127000     1             1    23.00  1396.0   \n",
       "2     2017         440000      45000     3             1    20.14  1197.0   \n",
       "3     2011         350000      90000     1             1    23.59  1364.0   \n",
       "4     2013         200000     169000     1             1    20.00  1399.0   \n",
       "...    ...            ...        ...   ...           ...      ...     ...   \n",
       "3952  2013         380000      25000     3             1    18.50  1197.0   \n",
       "3953  2008         120000     191000     3             1    17.92  1086.0   \n",
       "3954  2014         475000      80000     1             1    22.54  1396.0   \n",
       "3955  2013         320000     110000     3             1    18.50  1197.0   \n",
       "3956  2007         135000     119000     1             1    16.80  1493.0   \n",
       "\n",
       "      max_power  seats     make  \n",
       "0         78.00    5.0    Honda  \n",
       "1         90.00    5.0  Hyundai  \n",
       "2         81.86    5.0  Hyundai  \n",
       "3         67.10    5.0   Toyota  \n",
       "4         68.10    5.0     Ford  \n",
       "...         ...    ...      ...  \n",
       "3952      82.85    5.0  Hyundai  \n",
       "3953      62.10    5.0  Hyundai  \n",
       "3954      88.73    5.0  Hyundai  \n",
       "3955      82.85    5.0  Hyundai  \n",
       "3956     110.00    5.0  Hyundai  \n",
       "\n",
       "[3957 rows x 10 columns]"
      ]
     },
     "execution_count": 11,
     "metadata": {},
     "output_type": "execute_result"
    }
   ],
   "source": [
    "le = LabelEncoder()\n",
    "cars['fuel'] = le.fit_transform(cars['fuel'])\n",
    "cars['transmission'] = le.fit_transform(cars['transmission'])\n",
    "cars"
   ]
  },
  {
   "cell_type": "markdown",
   "id": "6c5449f1",
   "metadata": {},
   "source": [
    "## Start of the Algorithm\n",
    "\n",
    "First we will seperate our parameters and target values.\n",
    "\n",
    "Next we will use K Fold Cross Validation with 5,10, and 20 folds. We will use Decision Tree Classifier as our model and retrieve the average accuracy for each fold for our model."
   ]
  },
  {
   "cell_type": "code",
   "execution_count": 12,
   "id": "ea46d223",
   "metadata": {},
   "outputs": [],
   "source": [
    "params = cars.loc[:,cars.columns != 'make']\n",
    "target = cars['make']"
   ]
  },
  {
   "cell_type": "code",
   "execution_count": 13,
   "id": "4c278eea",
   "metadata": {},
   "outputs": [
    {
     "name": "stdout",
     "output_type": "stream",
     "text": [
      "Accuracy for Decision Tree Classifier with 5 folds - 97.83%\n",
      "Accuracy for Decision Tree Classifier with 10 folds - 97.98%\n",
      "Accuracy for Decision Tree Classifier with 20 folds - 98.28%\n"
     ]
    }
   ],
   "source": [
    "acc = [0,0,0]\n",
    "folds = [5, 10, 20]\n",
    "i = 0\n",
    "for fold in folds:\n",
    "    kf = KFold(n_splits=fold)\n",
    "    \n",
    "    for train_index, test_index in kf.split(params):\n",
    "        x_train, x_test = params.iloc[train_index], params.iloc[test_index]\n",
    "        y_train, y_test = target.iloc[train_index], target.iloc[test_index]\n",
    "        clf = tree.DecisionTreeClassifier()\n",
    "        clf.fit(x_train,y_train)\n",
    "        y_pred = clf.predict(x_test)\n",
    "        acc[i] += accuracy_score(y_test, y_pred)\n",
    "    acc[i] = acc[i]/fold\n",
    "    print(f\"Accuracy for Decision Tree Classifier with {fold} folds - {round(acc[i]*100,2)}%\")\n",
    "    i+=1\n",
    "\n"
   ]
  },
  {
   "cell_type": "markdown",
   "id": "c35ec6f3",
   "metadata": {},
   "source": [
    "## Tree Classifier Algorithm 2\n",
    "\n",
    "As shown above, 20 folds produced the best accuracy for our dataset. So for our Cross-Validation of this algorithm we will use 20 fold. For this algorithm we use Random Forest Classifier, and we have 3 different paremeter for our classifier for the number of trees which is 1000, 2000, and the total length of our dataset. "
   ]
  },
  {
   "cell_type": "code",
   "execution_count": 14,
   "id": "74607ce9",
   "metadata": {},
   "outputs": [
    {
     "name": "stdout",
     "output_type": "stream",
     "text": [
      "Accuracy for Random Forest Classifier with 1000 trees - 99.01%\n",
      "Accuracy for Random Forest Classifier with 2000 trees - 98.96%\n",
      "Accuracy for Random Forest Classifier with 3957 trees - 98.96%\n"
     ]
    }
   ],
   "source": [
    "acc = [0,0,0,0,0]\n",
    "fold = 20\n",
    "trees = [1000, 2000, len(params)]\n",
    "i = 0\n",
    "for tree in trees:\n",
    "    kf = KFold(n_splits=fold)\n",
    "    rfc = RandomForestClassifier(n_estimators=tree)\n",
    "    for train_index, test_index in kf.split(params):\n",
    "        x_train, x_test = params.iloc[train_index], params.iloc[test_index]\n",
    "        y_train, y_test = target.iloc[train_index], target.iloc[test_index]\n",
    "        rfc.fit(x_train,y_train)\n",
    "        y_pred = rfc.predict(x_test)\n",
    "        acc[i] += accuracy_score(y_test, y_pred)\n",
    "    acc[i] = acc[i] / fold\n",
    "    print(f\"Accuracy for Random Forest Classifier with {tree} trees - {round(acc[i]*100,2)}%\")\n",
    "    i+=1"
   ]
  },
  {
   "cell_type": "markdown",
   "id": "8198e2b1",
   "metadata": {},
   "source": [
    "## Tree Classifier Results\n",
    "\n",
    "It can be seen that both algorithms produce great results, but the Random Forest Classifier produces slightly better accuracy."
   ]
  },
  {
   "cell_type": "markdown",
   "id": "52e18b28",
   "metadata": {},
   "source": [
    "## Machine Learning Algorithm 2 - Neural Network\n",
    "\n",
    "Here we will classify images of number.\n",
    "\n",
    "First we load in our train datatset and our test dataset."
   ]
  },
  {
   "cell_type": "code",
   "execution_count": 15,
   "id": "3008f9c4",
   "metadata": {},
   "outputs": [],
   "source": [
    "train = pd.read_csv('train_digit.csv')\n",
    "test = pd.read_csv('test_digit.csv')"
   ]
  },
  {
   "cell_type": "code",
   "execution_count": 16,
   "id": "91ae1efb",
   "metadata": {},
   "outputs": [
    {
     "name": "stdout",
     "output_type": "stream",
     "text": [
      "(42000, 785)\n",
      "(28000, 784)\n"
     ]
    }
   ],
   "source": [
    "print(train.shape)\n",
    "print(test.shape)"
   ]
  },
  {
   "cell_type": "code",
   "execution_count": 17,
   "id": "ce412366",
   "metadata": {},
   "outputs": [],
   "source": [
    "train_y = train['label']\n",
    "train_x = train.loc[:,train.columns != 'label']"
   ]
  },
  {
   "cell_type": "markdown",
   "id": "a5eb4c21",
   "metadata": {},
   "source": [
    "#### Train Datset Example\n",
    "\n",
    "Here is a picture of what our images look like"
   ]
  },
  {
   "cell_type": "code",
   "execution_count": 18,
   "id": "69085bf1",
   "metadata": {},
   "outputs": [
    {
     "data": {
      "image/png": "[encoded data removed]",
      "text/plain": [
       "<Figure size 432x288 with 1 Axes>"
      ]
     },
     "metadata": {
      "needs_background": "light"
     },
     "output_type": "display_data"
    }
   ],
   "source": [
    "img = train_x.iloc[22].values.reshape(28,28)\n",
    "plt.imshow(img, cmap='gray')\n",
    "plt.show()"
   ]
  },
  {
   "cell_type": "markdown",
   "id": "b7125130",
   "metadata": {},
   "source": [
    "## Data Manipulation\n",
    "\n",
    "There really isn't much to do here except to normalize our data. Since our datset has an alpha between (0,255) we normalize it my dividing by 255 resulting in the alpha to be between (0,1)."
   ]
  },
  {
   "cell_type": "code",
   "execution_count": 19,
   "id": "cd2dc85e",
   "metadata": {},
   "outputs": [],
   "source": [
    "train_x = train_x/255\n",
    "test = test/255"
   ]
  },
  {
   "cell_type": "markdown",
   "id": "302750a2",
   "metadata": {},
   "source": [
    "## The Model\n",
    "\n",
    "We will first generate random seeds for our model.\n",
    "\n",
    "Then we will create our model, our model will have an input layer and 2 hidden layers before reaching its output layer.\n",
    "\n",
    "The input layer will have a shape of 784 since that is the shape of the columns of our dataset.\n",
    "\n",
    "The hidden layers will have units half the size of the previous layer.\n",
    "\n",
    "Finally the output layer will have 10 units since we are classifying numbers between 0-9.\n",
    "\n",
    "Our model will compile with addaptive moment estimation optimizer.\n",
    "\n",
    "After creating our model we will fit it on our train data with 5 epochs and 256 batch size. Which would be 42000/256 = 164 iterations."
   ]
  },
  {
   "cell_type": "code",
   "execution_count": 20,
   "id": "ace25262",
   "metadata": {},
   "outputs": [],
   "source": [
    "np.random.seed(1234)\n",
    "tf.random.set_seed(1234)\n",
    "\n",
    "nn = tf.keras.Sequential([\n",
    "    layers.Dense(units=512, activation='relu', input_shape=(784,), name='input_layer'),\n",
    "    layers.Dense(units=256, activation='relu', name='hidden1'),\n",
    "    layers.Dense(units=128, activation='relu', name='hidden2'),\n",
    "    layers.Dense(units=10, activation='softmax', name='output_layer')\n",
    "], name='nn')\n",
    "\n",
    "nn.compile(optimizer='adam', \n",
    "              loss='sparse_categorical_crossentropy', \n",
    "              metrics=['accuracy']) "
   ]
  },
  {
   "cell_type": "code",
   "execution_count": 21,
   "id": "56119c28",
   "metadata": {},
   "outputs": [
    {
     "name": "stdout",
     "output_type": "stream",
     "text": [
      "Epoch 1/5\n",
      "165/165 [==============================] - 3s 19ms/step - loss: 0.3320 - accuracy: 0.9040\n",
      "Epoch 2/5\n",
      "165/165 [==============================] - 3s 21ms/step - loss: 0.1178 - accuracy: 0.9645\n",
      "Epoch 3/5\n",
      "165/165 [==============================] - 4s 22ms/step - loss: 0.0709 - accuracy: 0.9778\n",
      "Epoch 4/5\n",
      "165/165 [==============================] - 3s 21ms/step - loss: 0.0560 - accuracy: 0.9824\n",
      "Epoch 5/5\n",
      "165/165 [==============================] - 4s 23ms/step - loss: 0.0371 - accuracy: 0.9885\n"
     ]
    },
    {
     "data": {
      "text/plain": [
       "<tensorflow.python.keras.callbacks.History at 0x2784e312e20>"
      ]
     },
     "execution_count": 21,
     "metadata": {},
     "output_type": "execute_result"
    }
   ],
   "source": [
    "nn.fit(x=train_x,y=train_y,epochs=5,batch_size=256)"
   ]
  },
  {
   "cell_type": "markdown",
   "id": "a38da711",
   "metadata": {},
   "source": [
    "## Results of Neural Network\n",
    "\n",
    "As you can see the model work extremely well on our training dataset. \n",
    "\n",
    "We will now create predictions on our test datset. Out test datset did not come with labels, so I will be presenting the image and the prediction for that corresponding image for a few test images to validate everything is working. "
   ]
  },
  {
   "cell_type": "code",
   "execution_count": 22,
   "id": "52c06cac",
   "metadata": {},
   "outputs": [],
   "source": [
    "predictions = nn.predict(test)"
   ]
  },
  {
   "cell_type": "code",
   "execution_count": 23,
   "id": "5a9fb6b8",
   "metadata": {},
   "outputs": [
    {
     "name": "stdout",
     "output_type": "stream",
     "text": [
      "[[3.8476724e-09 2.2453837e-10 9.9999976e-01 ... 2.5908460e-07\n",
      "  1.5772415e-10 2.7430311e-11]\n",
      " [9.9998999e-01 1.4264824e-06 7.1589143e-06 ... 5.5201355e-07\n",
      "  1.6512219e-08 1.4963663e-07]\n",
      " [2.7468812e-05 9.6534233e-05 7.2159448e-05 ... 8.8534161e-04\n",
      "  1.2589531e-03 9.9058437e-01]\n",
      " ...\n",
      " [6.7868081e-12 2.5196689e-10 1.2135444e-08 ... 1.3912890e-10\n",
      "  2.1828201e-08 7.2305761e-07]\n",
      " [1.8249785e-06 7.3340296e-08 2.5453096e-07 ... 7.1334543e-05\n",
      "  2.8511104e-06 9.9798238e-01]\n",
      " [1.2381925e-09 2.0704445e-09 9.9999988e-01 ... 1.5009510e-08\n",
      "  2.8819042e-10 2.5466790e-10]]\n"
     ]
    }
   ],
   "source": [
    "print(predictions)"
   ]
  },
  {
   "cell_type": "code",
   "execution_count": 24,
   "id": "89ca08d1",
   "metadata": {},
   "outputs": [
    {
     "data": {
      "text/plain": [
       "(28000, 10)"
      ]
     },
     "execution_count": 24,
     "metadata": {},
     "output_type": "execute_result"
    }
   ],
   "source": [
    "predictions.shape"
   ]
  },
  {
   "cell_type": "code",
   "execution_count": 25,
   "id": "79666468",
   "metadata": {},
   "outputs": [
    {
     "data": {
      "image/png": "[encoded data removed]",
      "text/plain": [
       "<Figure size 432x288 with 1 Axes>"
      ]
     },
     "metadata": {
      "needs_background": "light"
     },
     "output_type": "display_data"
    },
    {
     "name": "stdout",
     "output_type": "stream",
     "text": [
      "\n",
      "Our Prediction for this picture is: 2\n"
     ]
    }
   ],
   "source": [
    "img = test.iloc[0].values.reshape(28,28)\n",
    "plt.imshow(img, cmap='gray')\n",
    "plt.show()\n",
    "print()\n",
    "print(f\"Our Prediction for this picture is: {np.argmax(predictions[0])}\")"
   ]
  },
  {
   "cell_type": "code",
   "execution_count": 26,
   "id": "0da5c180",
   "metadata": {},
   "outputs": [
    {
     "data": {
      "image/png": "[encoded data removed]",
      "text/plain": [
       "<Figure size 432x288 with 1 Axes>"
      ]
     },
     "metadata": {
      "needs_background": "light"
     },
     "output_type": "display_data"
    },
    {
     "name": "stdout",
     "output_type": "stream",
     "text": [
      "\n",
      "Our Prediction for this picture is: 2\n"
     ]
    }
   ],
   "source": [
    "img = test.iloc[122].values.reshape(28,28)\n",
    "plt.imshow(img, cmap='gray')\n",
    "plt.show()\n",
    "print()\n",
    "print(f\"Our Prediction for this picture is: {np.argmax(predictions[122])}\")"
   ]
  },
  {
   "cell_type": "code",
   "execution_count": 27,
   "id": "9be821f2",
   "metadata": {},
   "outputs": [
    {
     "data": {
      "image/png": "[encoded data removed]",
      "text/plain": [
       "<Figure size 432x288 with 1 Axes>"
      ]
     },
     "metadata": {
      "needs_background": "light"
     },
     "output_type": "display_data"
    },
    {
     "name": "stdout",
     "output_type": "stream",
     "text": [
      "\n",
      "Our Prediction for this picture is: 9\n"
     ]
    }
   ],
   "source": [
    "img = test.iloc[547].values.reshape(28,28)\n",
    "plt.imshow(img, cmap='gray')\n",
    "plt.show()\n",
    "print()\n",
    "print(f\"Our Prediction for this picture is: {np.argmax(predictions[547])}\")"
   ]
  },
  {
   "cell_type": "code",
   "execution_count": 28,
   "id": "2423bf52",
   "metadata": {},
   "outputs": [
    {
     "data": {
      "image/png": "[encoded data removed]",
      "text/plain": [
       "<Figure size 432x288 with 1 Axes>"
      ]
     },
     "metadata": {
      "needs_background": "light"
     },
     "output_type": "display_data"
    },
    {
     "name": "stdout",
     "output_type": "stream",
     "text": [
      "\n",
      "Our Prediction for this picture is: 0\n"
     ]
    }
   ],
   "source": [
    "img = test.iloc[1000].values.reshape(28,28)\n",
    "plt.imshow(img, cmap='gray')\n",
    "plt.show()\n",
    "print()\n",
    "print(f\"Our Prediction for this picture is: {np.argmax(predictions[1000])}\")"
   ]
  },
  {
   "cell_type": "code",
   "execution_count": null,
   "id": "54f77b3f",
   "metadata": {},
   "outputs": [],
   "source": []
  }
 ],
 "metadata": {
  "kernelspec": {
   "display_name": "Python 3 (ipykernel)",
   "language": "python",
   "name": "python3"
  },
  "language_info": {
   "codemirror_mode": {
    "name": "ipython",
    "version": 3
   },
   "file_extension": ".py",
   "mimetype": "text/x-python",
   "name": "python",
   "nbconvert_exporter": "python",
   "pygments_lexer": "ipython3",
   "version": "3.8.5"
  }
 },
 "nbformat": 4,
 "nbformat_minor": 5
}
